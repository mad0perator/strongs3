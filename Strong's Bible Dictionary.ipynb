{
 "cells": [
  {
   "cell_type": "markdown",
   "metadata": {},
   "source": [
    "# Strong's Bible Dictionary\n",
    "\n",
    "Python 3 tools for Strong's Bible Dictionary. Data contains both Greek and Hebrew lemmas. Greek starting with *G* and Hebrew with *H*.\n",
    "\n",
    "Strong's definitions are retrieved and processed from [morphgnt](https://github.com/morphgnt/strongs-dictionary-xml) and [openscriptures](https://github.com/openscriptures/strongs/tree/master/). Few items are corrected and then data is saved as a CSV file. CSV file is a handy format for Python [Pandas](http://pandas.pydata.org/) data processing library. Pandas will be used as a base interface to retrieve the Strong's data.\n",
    "\n",
    "You need to have a [strongs.csv](https://raw.githubusercontent.com/markomanninen/strongs/master/strongs3/data_processed/strongs.csv) file on your local machine in the same directory with the main script."
   ]
  },
  {
   "cell_type": "code",
   "execution_count": 1,
   "metadata": {
    "collapsed": false
   },
   "outputs": [
    {
     "name": "stdout",
     "output_type": "stream",
     "text": [
      "Retrieving Strong's data from local csv copy (/Users/marko/Documents/notebooks2/strongs3/data_processed/strongs.csv) ...\n"
     ]
    }
   ],
   "source": [
    "import strongs3 as strongs"
   ]
  },
  {
   "cell_type": "markdown",
   "metadata": {},
   "source": [
    "## Find item by lemma"
   ]
  },
  {
   "cell_type": "markdown",
   "metadata": {},
   "source": [
    "You can get dictionary items by all five fields: lemma, word, transliteration, translation and isopsephy value. This is done by find function on strongs -module. Example given below retrieves Strong's greek definition G99 from dictionary:"
   ]
  },
  {
   "cell_type": "code",
   "execution_count": 2,
   "metadata": {
    "collapsed": false
   },
   "outputs": [
    {
     "data": {
      "text/html": [
       "<div>\n",
       "<table border=\"1\" class=\"dataframe\">\n",
       "  <thead>\n",
       "    <tr style=\"text-align: right;\">\n",
       "      <th></th>\n",
       "      <th>lemma</th>\n",
       "      <th>word</th>\n",
       "      <th>kjv_def</th>\n",
       "      <th>strongs_def</th>\n",
       "      <th>derivation</th>\n",
       "      <th>transliteration</th>\n",
       "      <th>abnum</th>\n",
       "      <th>word_len</th>\n",
       "    </tr>\n",
       "  </thead>\n",
       "  <tbody>\n",
       "    <tr>\n",
       "      <th>494</th>\n",
       "      <td>G992</td>\n",
       "      <td>βλητεος</td>\n",
       "      <td>must be put</td>\n",
       "      <td>fit to be cast (i.e. applied)</td>\n",
       "      <td>from G906 (βάλλω);</td>\n",
       "      <td>blêteos</td>\n",
       "      <td>615</td>\n",
       "      <td>7</td>\n",
       "    </tr>\n",
       "    <tr>\n",
       "      <th>638</th>\n",
       "      <td>G993</td>\n",
       "      <td>Βοανεργες</td>\n",
       "      <td>Boanerges</td>\n",
       "      <td>sons of commotion; Boanerges, an epithet of t...</td>\n",
       "      <td>of Chaldee origin (H01123 and H07266);</td>\n",
       "      <td>Boanerges</td>\n",
       "      <td>436</td>\n",
       "      <td>9</td>\n",
       "    </tr>\n",
       "    <tr>\n",
       "      <th>1575</th>\n",
       "      <td>G99</td>\n",
       "      <td>Αδριας</td>\n",
       "      <td>Adria</td>\n",
       "      <td>the Adriatic sea (including the Ionian)</td>\n",
       "      <td>from (a place near its shore);</td>\n",
       "      <td>Adrias</td>\n",
       "      <td>316</td>\n",
       "      <td>6</td>\n",
       "    </tr>\n",
       "    <tr>\n",
       "      <th>1893</th>\n",
       "      <td>G996</td>\n",
       "      <td>βοηθεια</td>\n",
       "      <td>help</td>\n",
       "      <td>aid; specially, a rope or chain for frapping ...</td>\n",
       "      <td>from G998 (βοηθός);</td>\n",
       "      <td>boêheia</td>\n",
       "      <td>105</td>\n",
       "      <td>7</td>\n",
       "    </tr>\n",
       "    <tr>\n",
       "      <th>2689</th>\n",
       "      <td>G997</td>\n",
       "      <td>βοηθεω</td>\n",
       "      <td>help, succor</td>\n",
       "      <td>to aid or relieve</td>\n",
       "      <td>from G998 (βοηθός);</td>\n",
       "      <td>boêheô</td>\n",
       "      <td>894</td>\n",
       "      <td>6</td>\n",
       "    </tr>\n",
       "    <tr>\n",
       "      <th>3097</th>\n",
       "      <td>G995</td>\n",
       "      <td>βοη</td>\n",
       "      <td>cry</td>\n",
       "      <td>a halloo, i.e. call (for aid, etc.)</td>\n",
       "      <td>from G994 (βοάω);</td>\n",
       "      <td>boê</td>\n",
       "      <td>80</td>\n",
       "      <td>3</td>\n",
       "    </tr>\n",
       "    <tr>\n",
       "      <th>3126</th>\n",
       "      <td>G999</td>\n",
       "      <td>βοθυνος</td>\n",
       "      <td>ditch, pit</td>\n",
       "      <td>a hole (in the ground); specially, a cistern</td>\n",
       "      <td>akin to G900 (βαθύνω);</td>\n",
       "      <td>bohunos</td>\n",
       "      <td>801</td>\n",
       "      <td>7</td>\n",
       "    </tr>\n",
       "    <tr>\n",
       "      <th>4640</th>\n",
       "      <td>G991</td>\n",
       "      <td>βλεπω</td>\n",
       "      <td>behold, beware, lie, look (on, to), perceive, ...</td>\n",
       "      <td>to look at (literally or figuratively)</td>\n",
       "      <td>a primary verb;</td>\n",
       "      <td>blepô</td>\n",
       "      <td>917</td>\n",
       "      <td>5</td>\n",
       "    </tr>\n",
       "    <tr>\n",
       "      <th>4876</th>\n",
       "      <td>G998</td>\n",
       "      <td>βοηθος</td>\n",
       "      <td>helper</td>\n",
       "      <td>a succorer</td>\n",
       "      <td>from G995 (βοή) and theo (to run);</td>\n",
       "      <td>boêhos</td>\n",
       "      <td>359</td>\n",
       "      <td>6</td>\n",
       "    </tr>\n",
       "    <tr>\n",
       "      <th>4992</th>\n",
       "      <td>G994</td>\n",
       "      <td>βοαω</td>\n",
       "      <td>cry</td>\n",
       "      <td>to halloo, i.e. shout (for help or in a tumul...</td>\n",
       "      <td>apparently a prolonged form of a primary verb;</td>\n",
       "      <td>boaô</td>\n",
       "      <td>873</td>\n",
       "      <td>4</td>\n",
       "    </tr>\n",
       "    <tr>\n",
       "      <th>5367</th>\n",
       "      <td>G990</td>\n",
       "      <td>βλεμμα</td>\n",
       "      <td>seeing</td>\n",
       "      <td>vision (properly concrete; by implication, ab...</td>\n",
       "      <td>from G991 (βλέπω);</td>\n",
       "      <td>blemma</td>\n",
       "      <td>118</td>\n",
       "      <td>6</td>\n",
       "    </tr>\n",
       "  </tbody>\n",
       "</table>\n",
       "</div>"
      ],
      "text/plain": [
       "     lemma       word                                            kjv_def  \\\n",
       "494   G992    βλητεος                                        must be put   \n",
       "638   G993  Βοανεργες                                          Boanerges   \n",
       "1575   G99     Αδριας                                              Adria   \n",
       "1893  G996    βοηθεια                                               help   \n",
       "2689  G997     βοηθεω                                       help, succor   \n",
       "3097  G995        βοη                                                cry   \n",
       "3126  G999    βοθυνος                                         ditch, pit   \n",
       "4640  G991      βλεπω  behold, beware, lie, look (on, to), perceive, ...   \n",
       "4876  G998     βοηθος                                             helper   \n",
       "4992  G994       βοαω                                                cry   \n",
       "5367  G990     βλεμμα                                             seeing   \n",
       "\n",
       "                                            strongs_def  \\\n",
       "494                       fit to be cast (i.e. applied)   \n",
       "638    sons of commotion; Boanerges, an epithet of t...   \n",
       "1575            the Adriatic sea (including the Ionian)   \n",
       "1893   aid; specially, a rope or chain for frapping ...   \n",
       "2689                                  to aid or relieve   \n",
       "3097                a halloo, i.e. call (for aid, etc.)   \n",
       "3126       a hole (in the ground); specially, a cistern   \n",
       "4640             to look at (literally or figuratively)   \n",
       "4876                                         a succorer   \n",
       "4992   to halloo, i.e. shout (for help or in a tumul...   \n",
       "5367   vision (properly concrete; by implication, ab...   \n",
       "\n",
       "                                          derivation transliteration  abnum  \\\n",
       "494                               from G906 (βάλλω);         blêteos    615   \n",
       "638           of Chaldee origin (H01123 and H07266);       Boanerges    436   \n",
       "1575                  from (a place near its shore);          Adrias    316   \n",
       "1893                             from G998 (βοηθός);         boêheia    105   \n",
       "2689                             from G998 (βοηθός);          boêheô    894   \n",
       "3097                               from G994 (βοάω);             boê     80   \n",
       "3126                          akin to G900 (βαθύνω);         bohunos    801   \n",
       "4640                                 a primary verb;           blepô    917   \n",
       "4876              from G995 (βοή) and theo (to run);          boêhos    359   \n",
       "4992  apparently a prolonged form of a primary verb;            boaô    873   \n",
       "5367                              from G991 (βλέπω);          blemma    118   \n",
       "\n",
       "      word_len  \n",
       "494          7  \n",
       "638          9  \n",
       "1575         6  \n",
       "1893         7  \n",
       "2689         6  \n",
       "3097         3  \n",
       "3126         7  \n",
       "4640         5  \n",
       "4876         6  \n",
       "4992         4  \n",
       "5367         6  "
      ]
     },
     "execution_count": 2,
     "metadata": {},
     "output_type": "execute_result"
    }
   ],
   "source": [
    "lemma = \"G99\"\n",
    "# first argument is search item. second is field name\n",
    "result = strongs.find(lemma, 'lemma')\n",
    "# print result using Pandas table output\n",
    "result"
   ]
  },
  {
   "cell_type": "markdown",
   "metadata": {},
   "source": [
    "As you can see, result contains all items having a substring \"G99\". You can get more limited result by passing search query using [python regular expression](https://docs.python.org/2/library/re.html) engine. \n",
    "\n",
    "\\$ at the end means searched string must end with given query. Because all lemmas starts with G in Greek Strong's definitions, we don't need to handle beginning part of the search string in this case. But you would do that kind of limit with expression: '^'+lemma+'\\$'. Let's get dictionary item with exact lemma:"
   ]
  },
  {
   "cell_type": "code",
   "execution_count": 3,
   "metadata": {
    "collapsed": false
   },
   "outputs": [
    {
     "data": {
      "text/html": [
       "<div>\n",
       "<table border=\"1\" class=\"dataframe\">\n",
       "  <thead>\n",
       "    <tr style=\"text-align: right;\">\n",
       "      <th></th>\n",
       "      <th>lemma</th>\n",
       "      <th>word</th>\n",
       "      <th>kjv_def</th>\n",
       "      <th>strongs_def</th>\n",
       "      <th>derivation</th>\n",
       "      <th>transliteration</th>\n",
       "      <th>abnum</th>\n",
       "      <th>word_len</th>\n",
       "    </tr>\n",
       "  </thead>\n",
       "  <tbody>\n",
       "    <tr>\n",
       "      <th>1575</th>\n",
       "      <td>G99</td>\n",
       "      <td>Αδριας</td>\n",
       "      <td>Adria</td>\n",
       "      <td>the Adriatic sea (including the Ionian)</td>\n",
       "      <td>from (a place near its shore);</td>\n",
       "      <td>Adrias</td>\n",
       "      <td>316</td>\n",
       "      <td>6</td>\n",
       "    </tr>\n",
       "  </tbody>\n",
       "</table>\n",
       "</div>"
      ],
      "text/plain": [
       "     lemma    word kjv_def                               strongs_def  \\\n",
       "1575   G99  Αδριας   Adria   the Adriatic sea (including the Ionian)   \n",
       "\n",
       "                          derivation transliteration  abnum  word_len  \n",
       "1575  from (a place near its shore);          Adrias    316         6  "
      ]
     },
     "execution_count": 3,
     "metadata": {},
     "output_type": "execute_result"
    }
   ],
   "source": [
    "strongs.find(lemma+'$', 'lemma')"
   ]
  },
  {
   "cell_type": "markdown",
   "metadata": {},
   "source": [
    "Alternatively you can pass compiled regex object to get item(s) even more efficiently. This is useful especially, if you do a lot of search queries with regular expression style."
   ]
  },
  {
   "cell_type": "code",
   "execution_count": 4,
   "metadata": {
    "collapsed": false
   },
   "outputs": [
    {
     "data": {
      "text/html": [
       "<div>\n",
       "<table border=\"1\" class=\"dataframe\">\n",
       "  <thead>\n",
       "    <tr style=\"text-align: right;\">\n",
       "      <th></th>\n",
       "      <th>lemma</th>\n",
       "      <th>word</th>\n",
       "      <th>kjv_def</th>\n",
       "      <th>strongs_def</th>\n",
       "      <th>derivation</th>\n",
       "      <th>transliteration</th>\n",
       "      <th>abnum</th>\n",
       "      <th>word_len</th>\n",
       "    </tr>\n",
       "  </thead>\n",
       "  <tbody>\n",
       "    <tr>\n",
       "      <th>1575</th>\n",
       "      <td>G99</td>\n",
       "      <td>Αδριας</td>\n",
       "      <td>Adria</td>\n",
       "      <td>the Adriatic sea (including the Ionian)</td>\n",
       "      <td>from (a place near its shore);</td>\n",
       "      <td>Adrias</td>\n",
       "      <td>316</td>\n",
       "      <td>6</td>\n",
       "    </tr>\n",
       "  </tbody>\n",
       "</table>\n",
       "</div>"
      ],
      "text/plain": [
       "     lemma    word kjv_def                               strongs_def  \\\n",
       "1575   G99  Αδριας   Adria   the Adriatic sea (including the Ionian)   \n",
       "\n",
       "                          derivation transliteration  abnum  word_len  \n",
       "1575  from (a place near its shore);          Adrias    316         6  "
      ]
     },
     "execution_count": 4,
     "metadata": {},
     "output_type": "execute_result"
    }
   ],
   "source": [
    "import re\n",
    "regex = re.compile('^'+lemma+'$')\n",
    "result = strongs.find(regex, 'lemma')\n",
    "result"
   ]
  },
  {
   "cell_type": "markdown",
   "metadata": {},
   "source": [
    "Finally, retrieving certain field content is done either by joining array of result item(s), which works well now, because there is only one search result:"
   ]
  },
  {
   "cell_type": "code",
   "execution_count": 5,
   "metadata": {
    "collapsed": false
   },
   "outputs": [
    {
     "name": "stdout",
     "output_type": "stream",
     "text": [
      "G99: Αδριας\n"
     ]
    }
   ],
   "source": [
    "print (lemma + \": \" + ''.join(result.word))"
   ]
  },
  {
   "cell_type": "markdown",
   "metadata": {},
   "source": [
    "or by retrieving row by index:"
   ]
  },
  {
   "cell_type": "code",
   "execution_count": 6,
   "metadata": {
    "collapsed": false
   },
   "outputs": [
    {
     "name": "stdout",
     "output_type": "stream",
     "text": [
      "G99:  the Adriatic sea (including the Ionian)\n"
     ]
    }
   ],
   "source": [
    "print (lemma + \": \" + result.strongs_def[1575])"
   ]
  },
  {
   "cell_type": "markdown",
   "metadata": {},
   "source": [
    "## Search queries with other fields"
   ]
  },
  {
   "cell_type": "markdown",
   "metadata": {},
   "source": [
    "### Word"
   ]
  },
  {
   "cell_type": "markdown",
   "metadata": {},
   "source": [
    "Words stored on the database are simplified greek and hebrew letters without accents/diacritics/masoreths. That's why you may need to preprocess greek words before making a search by a word. To remove unwanted characters and remove accents you can use preprocess method, which is provided by [abnum3](https://github.com/markomanninen/abnum3) module on the strongs library.\n",
    "\n",
    "Here we are first using \"unaccented\" word on search:"
   ]
  },
  {
   "cell_type": "code",
   "execution_count": 7,
   "metadata": {
    "collapsed": false
   },
   "outputs": [
    {
     "data": {
      "text/html": [
       "<div>\n",
       "<table border=\"1\" class=\"dataframe\">\n",
       "  <thead>\n",
       "    <tr style=\"text-align: right;\">\n",
       "      <th></th>\n",
       "      <th>lemma</th>\n",
       "      <th>word</th>\n",
       "      <th>kjv_def</th>\n",
       "      <th>strongs_def</th>\n",
       "      <th>derivation</th>\n",
       "      <th>transliteration</th>\n",
       "      <th>abnum</th>\n",
       "      <th>word_len</th>\n",
       "    </tr>\n",
       "  </thead>\n",
       "  <tbody>\n",
       "    <tr>\n",
       "      <th>1861</th>\n",
       "      <td>G5593</td>\n",
       "      <td>ψυχρος</td>\n",
       "      <td>cold</td>\n",
       "      <td>chilly (literally or figuratively)</td>\n",
       "      <td>from G5592 (ψύχος);</td>\n",
       "      <td>yuxros</td>\n",
       "      <td>2070</td>\n",
       "      <td>6</td>\n",
       "    </tr>\n",
       "  </tbody>\n",
       "</table>\n",
       "</div>"
      ],
      "text/plain": [
       "      lemma    word kjv_def                          strongs_def  \\\n",
       "1861  G5593  ψυχρος    cold   chilly (literally or figuratively)   \n",
       "\n",
       "               derivation transliteration  abnum  word_len  \n",
       "1861  from G5592 (ψύχος);          yuxros   2070         6  "
      ]
     },
     "execution_count": 7,
     "metadata": {},
     "output_type": "execute_result"
    }
   ],
   "source": [
    "strongs.find(\"ψυχρος\", 'word')"
   ]
  },
  {
   "cell_type": "markdown",
   "metadata": {},
   "source": [
    "And same with preprocessing: "
   ]
  },
  {
   "cell_type": "code",
   "execution_count": 8,
   "metadata": {
    "collapsed": false
   },
   "outputs": [
    {
     "data": {
      "text/html": [
       "<div>\n",
       "<table border=\"1\" class=\"dataframe\">\n",
       "  <thead>\n",
       "    <tr style=\"text-align: right;\">\n",
       "      <th></th>\n",
       "      <th>lemma</th>\n",
       "      <th>word</th>\n",
       "      <th>kjv_def</th>\n",
       "      <th>strongs_def</th>\n",
       "      <th>derivation</th>\n",
       "      <th>transliteration</th>\n",
       "      <th>abnum</th>\n",
       "      <th>word_len</th>\n",
       "    </tr>\n",
       "  </thead>\n",
       "  <tbody>\n",
       "    <tr>\n",
       "      <th>1861</th>\n",
       "      <td>G5593</td>\n",
       "      <td>ψυχρος</td>\n",
       "      <td>cold</td>\n",
       "      <td>chilly (literally or figuratively)</td>\n",
       "      <td>from G5592 (ψύχος);</td>\n",
       "      <td>yuxros</td>\n",
       "      <td>2070</td>\n",
       "      <td>6</td>\n",
       "    </tr>\n",
       "  </tbody>\n",
       "</table>\n",
       "</div>"
      ],
      "text/plain": [
       "      lemma    word kjv_def                          strongs_def  \\\n",
       "1861  G5593  ψυχρος    cold   chilly (literally or figuratively)   \n",
       "\n",
       "               derivation transliteration  abnum  word_len  \n",
       "1861  from G5592 (ψύχος);          yuxros   2070         6  "
      ]
     },
     "execution_count": 8,
     "metadata": {},
     "output_type": "execute_result"
    }
   ],
   "source": [
    "from strongs3.main import Abnum, greek, hebrew\n",
    "grc = Abnum(greek)\n",
    "word = grc.preprocess(\"ψυχρός\")\n",
    "strongs.find(word, 'word')"
   ]
  },
  {
   "cell_type": "markdown",
   "metadata": {},
   "source": [
    "### Translation\n",
    "\n",
    "Use *kjv_def* or *strongs_def* fields to search from translation of the dictionary words:"
   ]
  },
  {
   "cell_type": "code",
   "execution_count": 9,
   "metadata": {
    "collapsed": false
   },
   "outputs": [
    {
     "data": {
      "text/html": [
       "<div>\n",
       "<table border=\"1\" class=\"dataframe\">\n",
       "  <thead>\n",
       "    <tr style=\"text-align: right;\">\n",
       "      <th></th>\n",
       "      <th>lemma</th>\n",
       "      <th>word</th>\n",
       "      <th>kjv_def</th>\n",
       "      <th>strongs_def</th>\n",
       "      <th>derivation</th>\n",
       "      <th>transliteration</th>\n",
       "      <th>abnum</th>\n",
       "      <th>word_len</th>\n",
       "    </tr>\n",
       "  </thead>\n",
       "  <tbody>\n",
       "    <tr>\n",
       "      <th>565</th>\n",
       "      <td>G836</td>\n",
       "      <td>αυλος</td>\n",
       "      <td>pipe</td>\n",
       "      <td>a flute (as blown)</td>\n",
       "      <td>from the same as G109 (ἀήρ);</td>\n",
       "      <td>aulos</td>\n",
       "      <td>701</td>\n",
       "      <td>5</td>\n",
       "    </tr>\n",
       "    <tr>\n",
       "      <th>896</th>\n",
       "      <td>G834</td>\n",
       "      <td>αυλητης</td>\n",
       "      <td>minstrel, piper</td>\n",
       "      <td>a flute-player</td>\n",
       "      <td>from G832 (αὐλέω);</td>\n",
       "      <td>aulêtês</td>\n",
       "      <td>947</td>\n",
       "      <td>7</td>\n",
       "    </tr>\n",
       "    <tr>\n",
       "      <th>3621</th>\n",
       "      <td>G832</td>\n",
       "      <td>αυλεω</td>\n",
       "      <td>pipe</td>\n",
       "      <td>to play the flute</td>\n",
       "      <td>from G836 (αὐλός);</td>\n",
       "      <td>auleô</td>\n",
       "      <td>1236</td>\n",
       "      <td>5</td>\n",
       "    </tr>\n",
       "    <tr>\n",
       "      <th>8007</th>\n",
       "      <td>H2485</td>\n",
       "      <td>חליל</td>\n",
       "      <td>pipe.</td>\n",
       "      <td>a flute (as perforated)</td>\n",
       "      <td>from H2490 (חָלַל);</td>\n",
       "      <td>hlil</td>\n",
       "      <td>78</td>\n",
       "      <td>4</td>\n",
       "    </tr>\n",
       "    <tr>\n",
       "      <th>8012</th>\n",
       "      <td>H2490</td>\n",
       "      <td>חלל</td>\n",
       "      <td>begin ([idiom] men began), defile, [idiom] bre...</td>\n",
       "      <td>properly, to bore, i.e. (by implication) to wo...</td>\n",
       "      <td>a primitive root (compare H2470 (חָלָה)); also...</td>\n",
       "      <td>hll</td>\n",
       "      <td>68</td>\n",
       "      <td>3</td>\n",
       "    </tr>\n",
       "    <tr>\n",
       "      <th>10677</th>\n",
       "      <td>H5155</td>\n",
       "      <td>נחילה</td>\n",
       "      <td>(plural) Nehiloth.</td>\n",
       "      <td>a flute</td>\n",
       "      <td>probably denominative from H2485 (חָלִיל);</td>\n",
       "      <td>nhile</td>\n",
       "      <td>103</td>\n",
       "      <td>5</td>\n",
       "    </tr>\n",
       "  </tbody>\n",
       "</table>\n",
       "</div>"
      ],
      "text/plain": [
       "       lemma     word                                            kjv_def  \\\n",
       "565     G836    αυλος                                               pipe   \n",
       "896     G834  αυλητης                                    minstrel, piper   \n",
       "3621    G832    αυλεω                                               pipe   \n",
       "8007   H2485     חליל                                              pipe.   \n",
       "8012   H2490      חלל  begin ([idiom] men began), defile, [idiom] bre...   \n",
       "10677  H5155    נחילה                                 (plural) Nehiloth.   \n",
       "\n",
       "                                             strongs_def  \\\n",
       "565                                   a flute (as blown)   \n",
       "896                                       a flute-player   \n",
       "3621                                   to play the flute   \n",
       "8007                             a flute (as perforated)   \n",
       "8012   properly, to bore, i.e. (by implication) to wo...   \n",
       "10677                                            a flute   \n",
       "\n",
       "                                              derivation transliteration  \\\n",
       "565                         from the same as G109 (ἀήρ);           aulos   \n",
       "896                                   from G832 (αὐλέω);         aulêtês   \n",
       "3621                                  from G836 (αὐλός);           auleô   \n",
       "8007                                 from H2490 (חָלַל);            hlil   \n",
       "8012   a primitive root (compare H2470 (חָלָה)); also...             hll   \n",
       "10677         probably denominative from H2485 (חָלִיל);           nhile   \n",
       "\n",
       "       abnum  word_len  \n",
       "565      701         5  \n",
       "896      947         7  \n",
       "3621    1236         5  \n",
       "8007      78         4  \n",
       "8012      68         3  \n",
       "10677    103         5  "
      ]
     },
     "execution_count": 9,
     "metadata": {},
     "output_type": "execute_result"
    }
   ],
   "source": [
    "strongs.find(\"flute\", 'strongs_def')"
   ]
  },
  {
   "cell_type": "markdown",
   "metadata": {},
   "source": [
    "Note that result contains both Hebrew and Greek data. Result can be further filtered by using greek and hebrew hooks before find function:"
   ]
  },
  {
   "cell_type": "code",
   "execution_count": 10,
   "metadata": {
    "collapsed": false
   },
   "outputs": [
    {
     "data": {
      "text/html": [
       "<div>\n",
       "<table border=\"1\" class=\"dataframe\">\n",
       "  <thead>\n",
       "    <tr style=\"text-align: right;\">\n",
       "      <th></th>\n",
       "      <th>lemma</th>\n",
       "      <th>word</th>\n",
       "      <th>kjv_def</th>\n",
       "      <th>strongs_def</th>\n",
       "      <th>derivation</th>\n",
       "      <th>transliteration</th>\n",
       "      <th>abnum</th>\n",
       "      <th>word_len</th>\n",
       "    </tr>\n",
       "  </thead>\n",
       "  <tbody>\n",
       "    <tr>\n",
       "      <th>565</th>\n",
       "      <td>G836</td>\n",
       "      <td>αυλος</td>\n",
       "      <td>pipe</td>\n",
       "      <td>a flute (as blown)</td>\n",
       "      <td>from the same as G109 (ἀήρ);</td>\n",
       "      <td>aulos</td>\n",
       "      <td>701</td>\n",
       "      <td>5</td>\n",
       "    </tr>\n",
       "    <tr>\n",
       "      <th>896</th>\n",
       "      <td>G834</td>\n",
       "      <td>αυλητης</td>\n",
       "      <td>minstrel, piper</td>\n",
       "      <td>a flute-player</td>\n",
       "      <td>from G832 (αὐλέω);</td>\n",
       "      <td>aulêtês</td>\n",
       "      <td>947</td>\n",
       "      <td>7</td>\n",
       "    </tr>\n",
       "    <tr>\n",
       "      <th>3621</th>\n",
       "      <td>G832</td>\n",
       "      <td>αυλεω</td>\n",
       "      <td>pipe</td>\n",
       "      <td>to play the flute</td>\n",
       "      <td>from G836 (αὐλός);</td>\n",
       "      <td>auleô</td>\n",
       "      <td>1236</td>\n",
       "      <td>5</td>\n",
       "    </tr>\n",
       "  </tbody>\n",
       "</table>\n",
       "</div>"
      ],
      "text/plain": [
       "     lemma     word          kjv_def          strongs_def  \\\n",
       "565   G836    αυλος             pipe   a flute (as blown)   \n",
       "896   G834  αυλητης  minstrel, piper       a flute-player   \n",
       "3621  G832    αυλεω             pipe    to play the flute   \n",
       "\n",
       "                        derivation transliteration  abnum  word_len  \n",
       "565   from the same as G109 (ἀήρ);           aulos    701         5  \n",
       "896             from G832 (αὐλέω);         aulêtês    947         7  \n",
       "3621            from G836 (αὐλός);           auleô   1236         5  "
      ]
     },
     "execution_count": 10,
     "metadata": {},
     "output_type": "execute_result"
    }
   ],
   "source": [
    "strongs.greek.find(\"flute\", 'strongs_def')"
   ]
  },
  {
   "cell_type": "code",
   "execution_count": 11,
   "metadata": {
    "collapsed": false
   },
   "outputs": [
    {
     "data": {
      "text/html": [
       "<div>\n",
       "<table border=\"1\" class=\"dataframe\">\n",
       "  <thead>\n",
       "    <tr style=\"text-align: right;\">\n",
       "      <th></th>\n",
       "      <th>lemma</th>\n",
       "      <th>word</th>\n",
       "      <th>kjv_def</th>\n",
       "      <th>strongs_def</th>\n",
       "      <th>derivation</th>\n",
       "      <th>transliteration</th>\n",
       "      <th>abnum</th>\n",
       "      <th>word_len</th>\n",
       "    </tr>\n",
       "  </thead>\n",
       "  <tbody>\n",
       "    <tr>\n",
       "      <th>8007</th>\n",
       "      <td>H2485</td>\n",
       "      <td>חליל</td>\n",
       "      <td>pipe.</td>\n",
       "      <td>a flute (as perforated)</td>\n",
       "      <td>from H2490 (חָלַל);</td>\n",
       "      <td>hlil</td>\n",
       "      <td>78</td>\n",
       "      <td>4</td>\n",
       "    </tr>\n",
       "    <tr>\n",
       "      <th>8012</th>\n",
       "      <td>H2490</td>\n",
       "      <td>חלל</td>\n",
       "      <td>begin ([idiom] men began), defile, [idiom] bre...</td>\n",
       "      <td>properly, to bore, i.e. (by implication) to wo...</td>\n",
       "      <td>a primitive root (compare H2470 (חָלָה)); also...</td>\n",
       "      <td>hll</td>\n",
       "      <td>68</td>\n",
       "      <td>3</td>\n",
       "    </tr>\n",
       "    <tr>\n",
       "      <th>10677</th>\n",
       "      <td>H5155</td>\n",
       "      <td>נחילה</td>\n",
       "      <td>(plural) Nehiloth.</td>\n",
       "      <td>a flute</td>\n",
       "      <td>probably denominative from H2485 (חָלִיל);</td>\n",
       "      <td>nhile</td>\n",
       "      <td>103</td>\n",
       "      <td>5</td>\n",
       "    </tr>\n",
       "  </tbody>\n",
       "</table>\n",
       "</div>"
      ],
      "text/plain": [
       "       lemma   word                                            kjv_def  \\\n",
       "8007   H2485   חליל                                              pipe.   \n",
       "8012   H2490    חלל  begin ([idiom] men began), defile, [idiom] bre...   \n",
       "10677  H5155  נחילה                                 (plural) Nehiloth.   \n",
       "\n",
       "                                             strongs_def  \\\n",
       "8007                             a flute (as perforated)   \n",
       "8012   properly, to bore, i.e. (by implication) to wo...   \n",
       "10677                                            a flute   \n",
       "\n",
       "                                              derivation transliteration  \\\n",
       "8007                                 from H2490 (חָלַל);            hlil   \n",
       "8012   a primitive root (compare H2470 (חָלָה)); also...             hll   \n",
       "10677         probably denominative from H2485 (חָלִיל);           nhile   \n",
       "\n",
       "       abnum  word_len  \n",
       "8007      78         4  \n",
       "8012      68         3  \n",
       "10677    103         5  "
      ]
     },
     "execution_count": 11,
     "metadata": {},
     "output_type": "execute_result"
    }
   ],
   "source": [
    "strongs.hebrew.find(\"flute\", 'strongs_def')"
   ]
  },
  {
   "cell_type": "markdown",
   "metadata": {},
   "source": [
    "### Abnum"
   ]
  },
  {
   "cell_type": "markdown",
   "metadata": {},
   "source": [
    "My main reason for making Strong's dictionary to Jupyter Notebook application is the ongoing isopsephy/gematria research I've been doing since 2013. You can read more about the project from repositories:\n",
    "\n",
    "[GitHub Abnum 3 Project](https://github.com/markomanninen/abnum3) for Python 3\n",
    "\n",
    "[GitHub Isopsephy Project](https://github.com/markomanninen/isopsephy) for Python 2\n",
    "\n",
    "Main idea of the isopsephy is that all 27 letters of Greek alphabet has a numeric value (1-9: 1-9, 10-18: 10-90, 19:27: 100-900). So all words can be calculated to have a sum of the alphabet values. On the next example we find out all words on Strong's dictionary having the numerical value of 321:"
   ]
  },
  {
   "cell_type": "code",
   "execution_count": 12,
   "metadata": {
    "collapsed": false
   },
   "outputs": [
    {
     "data": {
      "text/html": [
       "<div>\n",
       "<table border=\"1\" class=\"dataframe\">\n",
       "  <thead>\n",
       "    <tr style=\"text-align: right;\">\n",
       "      <th></th>\n",
       "      <th>lemma</th>\n",
       "      <th>word</th>\n",
       "      <th>kjv_def</th>\n",
       "      <th>strongs_def</th>\n",
       "      <th>derivation</th>\n",
       "      <th>transliteration</th>\n",
       "      <th>abnum</th>\n",
       "      <th>word_len</th>\n",
       "    </tr>\n",
       "  </thead>\n",
       "  <tbody>\n",
       "    <tr>\n",
       "      <th>2124</th>\n",
       "      <td>G2570</td>\n",
       "      <td>καλος</td>\n",
       "      <td>X better, fair, good(-ly), honest, meet, well,...</td>\n",
       "      <td>of uncertain affinity; properly, beautiful, bu...</td>\n",
       "      <td>NaN</td>\n",
       "      <td>kalos</td>\n",
       "      <td>321</td>\n",
       "      <td>5</td>\n",
       "    </tr>\n",
       "    <tr>\n",
       "      <th>2918</th>\n",
       "      <td>G3485</td>\n",
       "      <td>ναος</td>\n",
       "      <td>shrine, temple</td>\n",
       "      <td>a fane, shrine, temple</td>\n",
       "      <td>from a primary (to dwell);</td>\n",
       "      <td>naos</td>\n",
       "      <td>321</td>\n",
       "      <td>4</td>\n",
       "    </tr>\n",
       "  </tbody>\n",
       "</table>\n",
       "</div>"
      ],
      "text/plain": [
       "      lemma   word                                            kjv_def  \\\n",
       "2124  G2570  καλος  X better, fair, good(-ly), honest, meet, well,...   \n",
       "2918  G3485   ναος                                     shrine, temple   \n",
       "\n",
       "                                            strongs_def  \\\n",
       "2124  of uncertain affinity; properly, beautiful, bu...   \n",
       "2918                            a fane, shrine, temple    \n",
       "\n",
       "                      derivation transliteration  abnum  word_len  \n",
       "2124                         NaN           kalos    321         5  \n",
       "2918  from a primary (to dwell);            naos    321         4  "
      ]
     },
     "execution_count": 12,
     "metadata": {},
     "output_type": "execute_result"
    }
   ],
   "source": [
    "strongs.greek.find(321, 'abnum')"
   ]
  },
  {
   "cell_type": "markdown",
   "metadata": {},
   "source": [
    "## Mapping\n",
    "\n",
    "In some cased we may want to use different alpha-numeric value mapping. This can be done with providing mapping information on the dictionary load function. Say that we want to use Ktav Ivri substitutions instead of default one:"
   ]
  },
  {
   "cell_type": "code",
   "execution_count": 13,
   "metadata": {
    "collapsed": true
   },
   "outputs": [],
   "source": [
    "# http://www.jewfaq.org/alephbet.htm\n",
    "# http://www.agapebiblestudy.com/charts/letter_number_equivalent.htm\n",
    "# https://www.academia.edu/s/22fded7fa9\n",
    "KtavIvri_Mapping = (\n",
    "    [1, 'alef'], [2, 'beth'], [3, 'gimel'], \n",
    "    [3, 'shin'], [4, 'daleth'], [4, 'tau'],\n",
    "    [5, 'he'], [6, 'vau'], [7, 'zayin'], \n",
    "    [8, 'heth'], [9, 'teth'], [10, 'yod'], \n",
    "    [20, 'kaph'], [30, 'lamed'], [40, 'mem'], \n",
    "    [50, 'nun'], [60, 'samekh'], [70, 'ayin'], \n",
    "    [80, 'pe'], [90, 'tsade'], [100, 'qoph'], \n",
    "    [200, 'resh'], [20, 'final_kaph'], [40, 'final_mem'], \n",
    "    [50, 'final_nun'], [80, 'final_pe'], [90, 'final_tsade']\n",
    ")"
   ]
  },
  {
   "cell_type": "markdown",
   "metadata": {},
   "source": [
    "Normally result will give abnum value: **821** for the lemma: **H115**"
   ]
  },
  {
   "cell_type": "code",
   "execution_count": 14,
   "metadata": {
    "collapsed": false
   },
   "outputs": [
    {
     "data": {
      "text/html": [
       "<div>\n",
       "<table border=\"1\" class=\"dataframe\">\n",
       "  <thead>\n",
       "    <tr style=\"text-align: right;\">\n",
       "      <th></th>\n",
       "      <th>lemma</th>\n",
       "      <th>word</th>\n",
       "      <th>kjv_def</th>\n",
       "      <th>strongs_def</th>\n",
       "      <th>derivation</th>\n",
       "      <th>transliteration</th>\n",
       "      <th>abnum</th>\n",
       "      <th>word_len</th>\n",
       "    </tr>\n",
       "  </thead>\n",
       "  <tbody>\n",
       "    <tr>\n",
       "      <th>5637</th>\n",
       "      <td>H115</td>\n",
       "      <td>אדורים</td>\n",
       "      <td>Adoraim.</td>\n",
       "      <td>Adorajim, a place in Palestine</td>\n",
       "      <td>dual from H142 (אָדַר) (in the sense of eminen...</td>\n",
       "      <td>adfriM</td>\n",
       "      <td>821</td>\n",
       "      <td>6</td>\n",
       "    </tr>\n",
       "  </tbody>\n",
       "</table>\n",
       "</div>"
      ],
      "text/plain": [
       "     lemma    word   kjv_def                     strongs_def  \\\n",
       "5637  H115  אדורים  Adoraim.  Adorajim, a place in Palestine   \n",
       "\n",
       "                                             derivation transliteration  \\\n",
       "5637  dual from H142 (אָדַר) (in the sense of eminen...          adfriM   \n",
       "\n",
       "      abnum  word_len  \n",
       "5637    821         6  "
      ]
     },
     "execution_count": 14,
     "metadata": {},
     "output_type": "execute_result"
    }
   ],
   "source": [
    "strongs.find(r'^H115$', 'lemma')"
   ]
  },
  {
   "cell_type": "markdown",
   "metadata": {},
   "source": [
    "But loading dictionary with different mapping the abnum value for the lemma will give: **261**"
   ]
  },
  {
   "cell_type": "code",
   "execution_count": 15,
   "metadata": {
    "collapsed": false
   },
   "outputs": [
    {
     "name": "stdout",
     "output_type": "stream",
     "text": [
      "Retrieving Strong's data from local csv copy (/Users/marko/Documents/notebooks2/strongs3/data_processed/strongs.csv) ...\n"
     ]
    },
    {
     "data": {
      "text/html": [
       "<div>\n",
       "<table border=\"1\" class=\"dataframe\">\n",
       "  <thead>\n",
       "    <tr style=\"text-align: right;\">\n",
       "      <th></th>\n",
       "      <th>lemma</th>\n",
       "      <th>word</th>\n",
       "      <th>kjv_def</th>\n",
       "      <th>strongs_def</th>\n",
       "      <th>derivation</th>\n",
       "      <th>transliteration</th>\n",
       "      <th>abnum</th>\n",
       "      <th>word_len</th>\n",
       "    </tr>\n",
       "  </thead>\n",
       "  <tbody>\n",
       "    <tr>\n",
       "      <th>5637</th>\n",
       "      <td>H115</td>\n",
       "      <td>אדורים</td>\n",
       "      <td>Adoraim.</td>\n",
       "      <td>Adorajim, a place in Palestine</td>\n",
       "      <td>dual from H142 (אָדַר) (in the sense of eminen...</td>\n",
       "      <td>adfriM</td>\n",
       "      <td>261</td>\n",
       "      <td>6</td>\n",
       "    </tr>\n",
       "  </tbody>\n",
       "</table>\n",
       "</div>"
      ],
      "text/plain": [
       "     lemma    word   kjv_def                     strongs_def  \\\n",
       "5637  H115  אדורים  Adoraim.  Adorajim, a place in Palestine   \n",
       "\n",
       "                                             derivation transliteration  \\\n",
       "5637  dual from H142 (אָדַר) (in the sense of eminen...          adfriM   \n",
       "\n",
       "      abnum  word_len  \n",
       "5637    261         6  "
      ]
     },
     "execution_count": 15,
     "metadata": {},
     "output_type": "execute_result"
    }
   ],
   "source": [
    "strongs.load_dictionary(mappings={'hebrew': KtavIvri_Mapping})\n",
    "strongs.find(r'^H115$', 'lemma')"
   ]
  },
  {
   "cell_type": "markdown",
   "metadata": {},
   "source": [
    "# Statistics"
   ]
  },
  {
   "cell_type": "code",
   "execution_count": 16,
   "metadata": {
    "collapsed": true
   },
   "outputs": [],
   "source": [
    "from strongs3.main import Abnum, greek, hebrew\n",
    "\n",
    "grc = Abnum(greek)\n",
    "heb = Abnum(hebrew, KtavIvri_Mapping)\n",
    "\n",
    "g = strongs.greek.find()\n",
    "h = strongs.hebrew.find()"
   ]
  },
  {
   "cell_type": "code",
   "execution_count": 17,
   "metadata": {
    "collapsed": false
   },
   "outputs": [
    {
     "data": {
      "text/html": [
       "<div>\n",
       "<table border=\"1\" class=\"dataframe\">\n",
       "  <thead>\n",
       "    <tr style=\"text-align: right;\">\n",
       "      <th></th>\n",
       "      <th>abnum</th>\n",
       "      <th>word_len</th>\n",
       "    </tr>\n",
       "  </thead>\n",
       "  <tbody>\n",
       "    <tr>\n",
       "      <th>count</th>\n",
       "      <td>5523.000000</td>\n",
       "      <td>5523.000000</td>\n",
       "    </tr>\n",
       "    <tr>\n",
       "      <th>mean</th>\n",
       "      <td>962.738186</td>\n",
       "      <td>7.438530</td>\n",
       "    </tr>\n",
       "    <tr>\n",
       "      <th>std</th>\n",
       "      <td>551.086483</td>\n",
       "      <td>2.331845</td>\n",
       "    </tr>\n",
       "    <tr>\n",
       "      <th>min</th>\n",
       "      <td>1.000000</td>\n",
       "      <td>1.000000</td>\n",
       "    </tr>\n",
       "    <tr>\n",
       "      <th>25%</th>\n",
       "      <td>540.000000</td>\n",
       "      <td>6.000000</td>\n",
       "    </tr>\n",
       "    <tr>\n",
       "      <th>50%</th>\n",
       "      <td>919.000000</td>\n",
       "      <td>7.000000</td>\n",
       "    </tr>\n",
       "    <tr>\n",
       "      <th>75%</th>\n",
       "      <td>1314.000000</td>\n",
       "      <td>9.000000</td>\n",
       "    </tr>\n",
       "    <tr>\n",
       "      <th>max</th>\n",
       "      <td>3260.000000</td>\n",
       "      <td>29.000000</td>\n",
       "    </tr>\n",
       "  </tbody>\n",
       "</table>\n",
       "</div>"
      ],
      "text/plain": [
       "             abnum     word_len\n",
       "count  5523.000000  5523.000000\n",
       "mean    962.738186     7.438530\n",
       "std     551.086483     2.331845\n",
       "min       1.000000     1.000000\n",
       "25%     540.000000     6.000000\n",
       "50%     919.000000     7.000000\n",
       "75%    1314.000000     9.000000\n",
       "max    3260.000000    29.000000"
      ]
     },
     "execution_count": 17,
     "metadata": {},
     "output_type": "execute_result"
    }
   ],
   "source": [
    "g.describe()"
   ]
  },
  {
   "cell_type": "code",
   "execution_count": 18,
   "metadata": {
    "collapsed": false
   },
   "outputs": [
    {
     "data": {
      "text/html": [
       "<div>\n",
       "<table border=\"1\" class=\"dataframe\">\n",
       "  <thead>\n",
       "    <tr style=\"text-align: right;\">\n",
       "      <th></th>\n",
       "      <th>abnum</th>\n",
       "      <th>word_len</th>\n",
       "    </tr>\n",
       "  </thead>\n",
       "  <tbody>\n",
       "    <tr>\n",
       "      <th>count</th>\n",
       "      <td>8674.000000</td>\n",
       "      <td>8674.000000</td>\n",
       "    </tr>\n",
       "    <tr>\n",
       "      <th>mean</th>\n",
       "      <td>151.137076</td>\n",
       "      <td>3.823957</td>\n",
       "    </tr>\n",
       "    <tr>\n",
       "      <th>std</th>\n",
       "      <td>105.340358</td>\n",
       "      <td>1.237421</td>\n",
       "    </tr>\n",
       "    <tr>\n",
       "      <th>min</th>\n",
       "      <td>3.000000</td>\n",
       "      <td>2.000000</td>\n",
       "    </tr>\n",
       "    <tr>\n",
       "      <th>25%</th>\n",
       "      <td>65.250000</td>\n",
       "      <td>3.000000</td>\n",
       "    </tr>\n",
       "    <tr>\n",
       "      <th>50%</th>\n",
       "      <td>124.000000</td>\n",
       "      <td>4.000000</td>\n",
       "    </tr>\n",
       "    <tr>\n",
       "      <th>75%</th>\n",
       "      <td>223.000000</td>\n",
       "      <td>4.000000</td>\n",
       "    </tr>\n",
       "    <tr>\n",
       "      <th>max</th>\n",
       "      <td>777.000000</td>\n",
       "      <td>14.000000</td>\n",
       "    </tr>\n",
       "  </tbody>\n",
       "</table>\n",
       "</div>"
      ],
      "text/plain": [
       "             abnum     word_len\n",
       "count  8674.000000  8674.000000\n",
       "mean    151.137076     3.823957\n",
       "std     105.340358     1.237421\n",
       "min       3.000000     2.000000\n",
       "25%      65.250000     3.000000\n",
       "50%     124.000000     4.000000\n",
       "75%     223.000000     4.000000\n",
       "max     777.000000    14.000000"
      ]
     },
     "execution_count": 18,
     "metadata": {},
     "output_type": "execute_result"
    }
   ],
   "source": [
    "h.describe()"
   ]
  },
  {
   "cell_type": "code",
   "execution_count": 19,
   "metadata": {
    "collapsed": false
   },
   "outputs": [],
   "source": [
    "grc_text = ''.join(g.word).lower().replace(\" \", \"\")\n",
    "grc_alphabet = set(grc_text)\n",
    "heb_text = ''.join(h.word).lower().replace(\" \", \"\")\n",
    "heb_alphabet = set(heb_text)"
   ]
  },
  {
   "cell_type": "code",
   "execution_count": 20,
   "metadata": {
    "collapsed": false
   },
   "outputs": [
    {
     "name": "stdout",
     "output_type": "stream",
     "text": [
      "Length of the greek text: 41057\n",
      "\n",
      "Letter: α Isopsephy: 1 Occurences: 4948 (12.05%)\n",
      "Letter: β Isopsephy: 2 Occurences: 439 (1.07%)\n",
      "Letter: γ Isopsephy: 3 Occurences: 748 (1.82%)\n",
      "Letter: δ Isopsephy: 4 Occurences: 804 (1.96%)\n",
      "Letter: ε Isopsephy: 5 Occurences: 3098 (7.55%)\n",
      "Letter: ϛ Isopsephy: 6 Occurences: 1 (0.00%)\n",
      "Letter: ζ Isopsephy: 7 Occurences: 372 (0.91%)\n",
      "Letter: η Isopsephy: 8 Occurences: 1271 (3.10%)\n",
      "Letter: θ Isopsephy: 9 Occurences: 551 (1.34%)\n",
      "Letter: ι Isopsephy: 10 Occurences: 3585 (8.73%)\n",
      "Letter: κ Isopsephy: 20 Occurences: 1443 (3.51%)\n",
      "Letter: λ Isopsephy: 30 Occurences: 1455 (3.54%)\n",
      "Letter: μ Isopsephy: 40 Occurences: 1689 (4.11%)\n",
      "Letter: ν Isopsephy: 50 Occurences: 2089 (5.09%)\n",
      "Letter: ξ Isopsephy: 60 Occurences: 150 (0.37%)\n",
      "Letter: ο Isopsephy: 70 Occurences: 3826 (9.32%)\n",
      "Letter: π Isopsephy: 80 Occurences: 1740 (4.24%)\n",
      "Letter: ρ Isopsephy: 100 Occurences: 2292 (5.58%)\n",
      "Letter: ς Isopsephy: 200 Occurences: 1952 (4.75%)\n",
      "Letter: σ Isopsephy: 200 Occurences: 1730 (4.21%)\n",
      "Letter: τ Isopsephy: 300 Occurences: 1960 (4.77%)\n",
      "Letter: υ Isopsephy: 400 Occurences: 1617 (3.94%)\n",
      "Letter: ϒ Isopsephy: 400 Occurences: 1 (0.00%)\n",
      "Letter: φ Isopsephy: 500 Occurences: 509 (1.24%)\n",
      "Letter: χ Isopsephy: 600 Occurences: 501 (1.22%)\n",
      "Letter: ψ Isopsephy: 700 Occurences: 84 (0.20%)\n",
      "Letter: ω Isopsephy: 800 Occurences: 2202 (5.36%)\n",
      "\n",
      "Length of the hebrew text: 32943\n",
      "\n",
      "Letter: א Isopsephy: 1 Occurences: 1720 (5.22%)\n",
      "Letter: ב Isopsephy: 2 Occurences: 1727 (5.24%)\n",
      "Letter: ג Isopsephy: 3 Occurences: 716 (2.17%)\n",
      "Letter: ש Isopsephy: 3 Occurences: 1807 (5.49%)\n",
      "Letter: ת Isopsephy: 4 Occurences: 1420 (4.31%)\n",
      "Letter: ד Isopsephy: 4 Occurences: 1193 (3.62%)\n",
      "Letter: ה Isopsephy: 5 Occurences: 2218 (6.73%)\n",
      "Letter: ו Isopsephy: 6 Occurences: 2037 (6.18%)\n",
      "Letter: ז Isopsephy: 7 Occurences: 562 (1.71%)\n",
      "Letter: ח Isopsephy: 8 Occurences: 1489 (4.52%)\n",
      "Letter: ט Isopsephy: 9 Occurences: 420 (1.27%)\n",
      "Letter: י Isopsephy: 10 Occurences: 2709 (8.22%)\n",
      "Letter: כ Isopsephy: 20 Occurences: 719 (2.18%)\n",
      "Letter: ך Isopsephy: 20 Occurences: 174 (0.53%)\n",
      "Letter: ל Isopsephy: 30 Occurences: 1955 (5.93%)\n",
      "Letter: ם Isopsephy: 40 Occurences: 542 (1.65%)\n",
      "Letter: מ Isopsephy: 40 Occurences: 1894 (5.75%)\n",
      "Letter: ן Isopsephy: 50 Occurences: 791 (2.40%)\n",
      "Letter: נ Isopsephy: 50 Occurences: 1160 (3.52%)\n",
      "Letter: ס Isopsephy: 60 Occurences: 604 (1.83%)\n",
      "Letter: ע Isopsephy: 70 Occurences: 1544 (4.69%)\n",
      "Letter: ף Isopsephy: 80 Occurences: 208 (0.63%)\n",
      "Letter: פ Isopsephy: 80 Occurences: 875 (2.66%)\n",
      "Letter: ץ Isopsephy: 90 Occurences: 131 (0.40%)\n",
      "Letter: צ Isopsephy: 90 Occurences: 621 (1.89%)\n",
      "Letter: ק Isopsephy: 100 Occurences: 938 (2.85%)\n",
      "Letter: ר Isopsephy: 200 Occurences: 2769 (8.41%)\n"
     ]
    }
   ],
   "source": [
    "stats = {'heb': {}, 'grc': {}}\n",
    "\n",
    "print (\"Length of the greek text: %s\" % len(grc_text))\n",
    "print ()\n",
    "for item in sorted(zip(grc_alphabet, map(grc.value, grc_alphabet)), key=lambda tup: tup[1]):\n",
    "    oc = grc_text.count(item[0])\n",
    "    print (\"Letter: %s Isopsephy: %s Occurences: %s (%.2f%%)\" % (item[0], item[1], oc, 100*oc/len(grc_text)))\n",
    "    stats['grc'][item[0]] = 100*oc/len(grc_text)\n",
    "print ()\n",
    "print (\"Length of the hebrew text: %s\" % len(heb_text))\n",
    "print ()\n",
    "for item in sorted(zip(heb_alphabet, map(heb.value, heb_alphabet)), key=lambda tup: tup[1]):\n",
    "    oc = heb_text.count(item[0])\n",
    "    print (\"Letter: %s Isopsephy: %s Occurences: %s (%.2f%%)\" % (item[0], item[1], oc, 100*oc/len(heb_text)))\n",
    "    stats['heb'][item[0]] = 100*oc/len(grc_text)"
   ]
  },
  {
   "cell_type": "code",
   "execution_count": 21,
   "metadata": {
    "collapsed": false
   },
   "outputs": [
    {
     "data": {
      "image/png": "[encoded data removed]",
      "text/plain": [
       "<matplotlib.figure.Figure at 0x10488d390>"
      ]
     },
     "metadata": {},
     "output_type": "display_data"
    }
   ],
   "source": [
    "%matplotlib inline\n",
    "\n",
    "import matplotlib\n",
    "matplotlib.rc('font', family='Arial')\n",
    "plt = matplotlib.pyplot\n",
    "\n",
    "def plot(D):\n",
    "    r = range(len(D))\n",
    "    plt.figure(figsize=(20,10))\n",
    "    plt.tick_params(axis='both', which='major', labelsize=16)\n",
    "    plt.bar(r, D.values(), align='center')\n",
    "    plt.xticks(r, list(D.keys()))\n",
    "    plt.show()\n",
    "\n",
    "plot(stats['grc'])"
   ]
  },
  {
   "cell_type": "code",
   "execution_count": 22,
   "metadata": {
    "collapsed": false
   },
   "outputs": [
    {
     "data": {
      "image/png": "[encoded data removed]",
      "text/plain": [
       "<matplotlib.figure.Figure at 0x1099434a8>"
      ]
     },
     "metadata": {},
     "output_type": "display_data"
    }
   ],
   "source": [
    "plot(stats['heb'])"
   ]
  },
  {
   "cell_type": "markdown",
   "metadata": {},
   "source": [
    "## The [MIT](http://choosealicense.com/licenses/mit/) License\n",
    "\n",
    "Copyright &copy; 2016 Marko Manninen"
   ]
  }
 ],
 "metadata": {
  "kernelspec": {
   "display_name": "Python 3",
   "language": "python",
   "name": "python3"
  },
  "language_info": {
   "codemirror_mode": {
    "name": "ipython",
    "version": 3
   },
   "file_extension": ".py",
   "mimetype": "text/x-python",
   "name": "python",
   "nbconvert_exporter": "python",
   "pygments_lexer": "ipython3",
   "version": "3.5.1"
  }
 },
 "nbformat": 4,
 "nbformat_minor": 0
}
